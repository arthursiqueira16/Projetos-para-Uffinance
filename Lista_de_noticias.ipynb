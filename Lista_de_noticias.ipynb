{
 "cells": [
  {
   "cell_type": "code",
   "execution_count": 2,
   "id": "09fb08d7",
   "metadata": {},
   "outputs": [],
   "source": [
    "#importando as bibliotecas\n",
    "from selenium import webdriver\n",
    "from selenium.webdriver.chrome.service import Service\n",
    "from webdriver_manager.chrome import ChromeDriverManager\n",
    "import os\n",
    "from selenium.webdriver.common.by import By\n",
    "\n",
    "\n",
    "#criando o navegador e atualizando o chrome\n",
    "servico = Service(ChromeDriverManager().install())\n",
    "navegador = webdriver.Chrome(service=servico)"
   ]
  },
  {
   "cell_type": "code",
   "execution_count": 4,
   "id": "7d76364d",
   "metadata": {},
   "outputs": [],
   "source": [
    "#entrando no site do infomoney\n",
    "navegador.get('https://www.infomoney.com.br/mercados/')\n"
   ]
  },
  {
   "cell_type": "code",
   "execution_count": 15,
   "id": "6adb0b91",
   "metadata": {},
   "outputs": [
    {
     "name": "stdout",
     "output_type": "stream",
     "text": [
      "https://www.infomoney.com.br/mercados/gerdau-ggbr4-segue-como-preferida-entre-acoes-de-siderurgicas-apos-resultados-confira-as-projecoes-para-o-setor/\n",
      "https://www.infomoney.com.br/mercados/empresa-de-pagamentos-banxa-desembarca-no-brasil-com-pix-na-binance/\n",
      "https://www.infomoney.com.br/mercados/china-gabinete-anuncia-medidas-para-apoiar-economia-com-foco-em-energia-e-agro/\n",
      "https://www.infomoney.com.br/mercados/china-tenta-resgatar-setor-imobiliario-com-garantias-em-titulos-para-6-empresas/\n",
      "https://www.infomoney.com.br/mercados/instituicoes-correm-o-risco-de-perder-negocio-da-decada-com-atualizacao-do-ethereum-diz-diretora-da-arca/\n",
      "https://www.infomoney.com.br/mercados/cade-corrige-julgamento-da-venda-da-refinaria-reman-da-petrobras-petr4-sera-no-dia-30/\n",
      "https://www.infomoney.com.br/mercados/bbi-rebaixa-suzb3-klbn11-credit-corta-lwsa3-jp-eleva-igt11-brml3-recomendacoes-destaque/\n",
      "https://www.infomoney.com.br/colunistas/tudo-clear/gordon-gekko-x-trader-individual/\n",
      "https://www.infomoney.com.br/mercados/quem-e-o-influenciador-de-criptomoedas-investigado-por-piramide-financeira/\n",
      "https://www.infomoney.com.br/onde-investir/bradesco-adquire-51-do-capital-da-bv-dtvm-nona-maior-gestora-de-fiis/\n",
      "https://www.infomoney.com.br/mercados/ibovespa-futuro-opera-em-leve-baixa-apos-forte-alta-da-vespera-dolar-e-juros-caem/\n",
      "https://www.infomoney.com.br/economia/ipca-15-agosto-2022-deflacao-ibge/\n",
      "https://www.infomoney.com.br/mercados/ripio-lanca-cartao-cripto-no-brasil-com-cashback-em-bitcoin/\n",
      "https://www.infomoney.com.br/mercados/ucrania-diz-que-algemas-russas-sao-piores-que-misseis-6-meses-apos-invasao/\n",
      "https://www.infomoney.com.br/mercados/cemig-cmig4-celebra-contrato-para-implantar-usinas-solares-copel-cple6-emitira-ate-r-1-bi-em-notas-comerciais-e-mais/\n",
      "https://www.infomoney.com.br/mercados/futuros-dos-eua-operam-proximo-estabilidade-vesperas-jackson-hole-ipca-15-assuntos-do-mercado-hoje/\n",
      "https://www.infomoney.com.br/mercados/criptos-hoje-bitcoin-anda-de-lado-mas-mercado-cripto-cai-abaixo-de-us-1-tri-segundo-fmi-cresce-a-correlacao-com-bolsas-asiaticas/\n",
      "https://www.infomoney.com.br/mercados/ibovespa-hoje-bolsa-de-valores-ao-vivo-24082022/\n",
      "https://www.infomoney.com.br/mercados/cielo-ciel3-anuncia-que-estanislau-bassols-assumira-presidencia-da-companhia/\n",
      "https://www.infomoney.com.br/mercados/estoques-de-petroleo-nos-eua-recuam-56-milhoes-barris-revela-api/\n",
      "https://www.infomoney.com.br/mercados/ibovespa-descola-do-exterior-e-avanca-213-com-commodities-e-baixa-dos-juros-dolar-fecha-abaixo-de-r-510/\n",
      "https://www.infomoney.com.br/mercados/suspeitos-de-piramide-com-criptomoedas-sao-alvo-de-operacao-em-sp/\n",
      "https://www.infomoney.com.br/economia/regiao-da-america-latina-e-do-caribe-deve-perder-folego-e-crescer-27-em-2022-diz-cepal/\n",
      "https://www.infomoney.com.br/mercados/camil-caml3-aquisicao-da-mabel-marca-entrada-em-novo-segmento-com-marca-forte-e-produtos-de-alto-valor-acao-sobe/\n",
      "https://www.infomoney.com.br/mercados/plataforma-cripto-celsius-processa-ex-colaborador-por-fraude-ladrao-e-incompetente/\n",
      "https://www.infomoney.com.br/mercados/empresa-que-cria-avatares-no-metaverso-levanta-us-56-milhoes-em-rodada-liderada-por-a16z/\n",
      "https://www.infomoney.com.br/economia/grecia-planeja-subsidio-de-19-bilhao-de-euros-para-energia-em-setembro/\n",
      "https://www.infomoney.com.br/economia/maior-lago-da-china-sofre-com-a-seca-e-afeta-plantacoes-de-arroz/\n",
      "https://www.infomoney.com.br/mercados/mercado-pago-no-ano-que-vem-deve-ter-uma-receita-maior-que-a-do-mercado-livre-diz-vice-presidente-senior-do-grupo/\n",
      "https://www.infomoney.com.br/mercados/hackers-perdem-5-ethereum-ao-tentar-atacar-protocolo-defi/\n",
      "https://www.infomoney.com.br/mercados/cuba-vai-reabrir-seu-mercado-de-venda-de-moeda-estrangeira/\n",
      "https://www.infomoney.com.br/consumo/mercado-livre-recebe-1a-aviao-cargueiro-da-gol-para-diminuir-tempo-de-entregas-no-norte-e-nordeste/\n",
      "https://www.infomoney.com.br/guias/recessao-economica/\n",
      "https://www.infomoney.com.br/mercados/pl-das-criptos-so-mudanca-de-ultima-hora-permitira-que-bc-regule-ponto-polemico-diz-especialista/\n",
      "https://www.infomoney.com.br/economia/campos-neto-todo-bc-tenta-evitar-2-erros-fazer-demais-ou-nao-fazer-o-suficiente/\n",
      "https://www.infomoney.com.br/consumo/governo-de-sp-gastara-r-782-milhoes-o-dobro-do-previsto-para-manter-pedagios-congelados-em-2022/\n",
      "https://www.infomoney.com.br/mercados/oi-oibr3-com-venda-de-torres-empresa-pode-abater-dividas-e-investir-em-expansao-mas-o-que-falta-para-deixar-recuperacao-judicial/\n",
      "https://www.infomoney.com.br/mercados/siderurgicas-veem-cenario-externo-cautela-segundo-semestre-desafiador/\n",
      "https://www.infomoney.com.br/mercados/euro-volta-a-negociar-abaixo-de-us-1-com-preocupacoes-sobre-crise-energetica-e-recessao/\n",
      "https://www.infomoney.com.br/mercados/cade-julga-venda-da-refinaria-reman-da-petrobras-petr4-dia-26-em-sessao-extraordinaria/\n",
      "https://www.infomoney.com.br/mercados/plataforma-cripto-com-maior-numero-de-ativos-do-mundo-e-brasileira/\n",
      "https://www.infomoney.com.br/mercados/lucros-caem-mas-maioria-das-empresas-supera-projecoes-confira-as-acoes-e-os-setores-que-se-destacaram-no-2o-tri/\n",
      "https://www.infomoney.com.br/mercados/ganhar-dinheiro-na-bolsa-com-4-horas-por-ano/\n",
      "https://www.infomoney.com.br/mercados/ftx-surfa-rali-das-criptomoedas-e-tem-receita-de-us-1-bilhao-em-2021/\n",
      "https://www.infomoney.com.br/colunistas/tudo-clear/o-tempo-de-aprendizado/\n",
      "https://www.infomoney.com.br/mercados/minerva-beef3-industria-mais-racional-e-super-ciclo-de-carne-devem-manter-margens-altas-destacam-analistas/\n",
      "https://www.infomoney.com.br/mercados/fundador-do-telegram-propoe-marketplace-para-vender-nomes-de-usuario-em-nfts/\n"
     ]
    },
    {
     "data": {
      "text/plain": [
       "47"
      ]
     },
     "execution_count": 15,
     "metadata": {},
     "output_type": "execute_result"
    }
   ],
   "source": [
    "# Após inspecionar o site, foi verificado que as notícias tinham um class_name em comum\n",
    "lista = navegador.find_elements(By.CLASS_NAME, 'article-card__headline-link')\n",
    "\n",
    "# Para cada notícia, pegar o link atribuído a ela\n",
    "\n",
    "for noticia in lista:\n",
    "    print(noticia.get_attribute('href'))\n",
    "\n",
    "len(lista)"
   ]
  },
  {
   "cell_type": "code",
   "execution_count": null,
   "id": "6d5dadfe",
   "metadata": {},
   "outputs": [],
   "source": []
  }
 ],
 "metadata": {
  "kernelspec": {
   "display_name": "Python 3 (ipykernel)",
   "language": "python",
   "name": "python3"
  },
  "language_info": {
   "codemirror_mode": {
    "name": "ipython",
    "version": 3
   },
   "file_extension": ".py",
   "mimetype": "text/x-python",
   "name": "python",
   "nbconvert_exporter": "python",
   "pygments_lexer": "ipython3",
   "version": "3.9.7"
  }
 },
 "nbformat": 4,
 "nbformat_minor": 5
}
