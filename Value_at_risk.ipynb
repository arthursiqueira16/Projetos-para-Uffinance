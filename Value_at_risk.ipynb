{
 "cells": [
  {
   "cell_type": "code",
   "execution_count": 1,
   "id": "16ec65e4",
   "metadata": {},
   "outputs": [],
   "source": [
    "#importando as bibliotecas\n",
    "\n",
    "import pandas as pd \n",
    "import numpy as np \n",
    "import matplotlib.pyplot as plt \n",
    "import datetime as dt \n",
    "import pandas_datareader as pdr \n",
    "from scipy.stats import norm \n",
    "from tabulate import tabulate \n",
    "\n"
   ]
  },
  {
   "cell_type": "code",
   "execution_count": 2,
   "id": "79187a20",
   "metadata": {},
   "outputs": [],
   "source": [
    "#escolhendo o ativo\n",
    "ativos = [\"MGLU3.SA\"]\n",
    "\n",
    "#escolhendo o período \n",
    "anos = 3\n",
    "dias = 365 * anos\n",
    "\n",
    "data_final = dt.date.today() # dia de hoje\n",
    "data_inicial = data_final - dt.timedelta(days=dias) # dia de hoje - quantidade de dias da variavel 'dias'\n",
    "\n",
    "df = pd.concat([pdr.get_data_yahoo(ativos,\n",
    "                                   start=data_inicial,\n",
    "                                   end=data_final)['Close']], axis=1)\n",
    "\n"
   ]
  },
  {
   "cell_type": "code",
   "execution_count": 3,
   "id": "86fc65f8",
   "metadata": {},
   "outputs": [
    {
     "data": {
      "image/png": "[encoded data removed]",
      "text/plain": [
       "<Figure size 432x288 with 1 Axes>"
      ]
     },
     "metadata": {
      "needs_background": "light"
     },
     "output_type": "display_data"
    },
    {
     "data": {
      "text/html": [
       "<div>\n",
       "<style scoped>\n",
       "    .dataframe tbody tr th:only-of-type {\n",
       "        vertical-align: middle;\n",
       "    }\n",
       "\n",
       "    .dataframe tbody tr th {\n",
       "        vertical-align: top;\n",
       "    }\n",
       "\n",
       "    .dataframe thead th {\n",
       "        text-align: right;\n",
       "    }\n",
       "</style>\n",
       "<table border=\"1\" class=\"dataframe\">\n",
       "  <thead>\n",
       "    <tr style=\"text-align: right;\">\n",
       "      <th></th>\n",
       "      <th>Confidence Level</th>\n",
       "      <th>Value at Risk</th>\n",
       "    </tr>\n",
       "  </thead>\n",
       "  <tbody>\n",
       "    <tr>\n",
       "      <th>0</th>\n",
       "      <td>90%</td>\n",
       "      <td>-0.055274</td>\n",
       "    </tr>\n",
       "    <tr>\n",
       "      <th>1</th>\n",
       "      <td>95%</td>\n",
       "      <td>-0.070835</td>\n",
       "    </tr>\n",
       "    <tr>\n",
       "      <th>2</th>\n",
       "      <td>99%</td>\n",
       "      <td>-0.100024</td>\n",
       "    </tr>\n",
       "    <tr>\n",
       "      <th>3</th>\n",
       "      <td>1%</td>\n",
       "      <td>0.099255</td>\n",
       "    </tr>\n",
       "    <tr>\n",
       "      <th>4</th>\n",
       "      <td>5%</td>\n",
       "      <td>0.070066</td>\n",
       "    </tr>\n",
       "    <tr>\n",
       "      <th>5</th>\n",
       "      <td>10%</td>\n",
       "      <td>0.054506</td>\n",
       "    </tr>\n",
       "  </tbody>\n",
       "</table>\n",
       "</div>"
      ],
      "text/plain": [
       "  Confidence Level  Value at Risk\n",
       "0              90%      -0.055274\n",
       "1              95%      -0.070835\n",
       "2              99%      -0.100024\n",
       "3               1%       0.099255\n",
       "4               5%       0.070066\n",
       "5              10%       0.054506"
      ]
     },
     "metadata": {},
     "output_type": "display_data"
    }
   ],
   "source": [
    "# Calcula o retorno\n",
    "df['simple_return'] = (df / df.shift(1)) - 1\n",
    "\n",
    "# Apaga o NaN\n",
    "returns = df['simple_return'].dropna()\n",
    "\n",
    "# Calcula média e desvio padrão dos retornos\n",
    "mean = np.mean(returns)\n",
    "std_dev = np.std(returns)\n",
    "\n",
    "# Monta o histograma\n",
    "returns.hist(bins=40, histtype='stepfilled', alpha=0.5)\n",
    "x = np.linspace(mean - 3*std_dev, mean + 3*std_dev, 100)\n",
    "plt.plot(x, norm.pdf(x, mean, std_dev), \"r\")\n",
    "plt.show()\n",
    "\n",
    "VaR_90 = norm.ppf(1-0.9, mean, std_dev)\n",
    "VaR_95 = norm.ppf(1-0.95, mean, std_dev)\n",
    "VaR_99 = norm.ppf(1-0.99, mean, std_dev)\n",
    "VaR_01 = norm.ppf(1-0.01, mean, std_dev)\n",
    "VaR_05 = norm.ppf(1-0.05, mean, std_dev)\n",
    "VaR_10 = norm.ppf(1-0.1, mean, std_dev)\n",
    "\n",
    "#cria o dataframe\n",
    "df = pd.DataFrame(data = [['90%', VaR_90], ['95%', VaR_95], ['99%', VaR_99], ['1%', VaR_01], ['5%', VaR_05], ['10%', VaR_10]], columns = ['Confidence Level', 'Value at Risk'])\n",
    "\n",
    "display(df)"
   ]
  },
  {
   "cell_type": "code",
   "execution_count": null,
   "id": "eded0636",
   "metadata": {},
   "outputs": [],
   "source": []
  }
 ],
 "metadata": {
  "kernelspec": {
   "display_name": "Python 3 (ipykernel)",
   "language": "python",
   "name": "python3"
  },
  "language_info": {
   "codemirror_mode": {
    "name": "ipython",
    "version": 3
   },
   "file_extension": ".py",
   "mimetype": "text/x-python",
   "name": "python",
   "nbconvert_exporter": "python",
   "pygments_lexer": "ipython3",
   "version": "3.9.7"
  }
 },
 "nbformat": 4,
 "nbformat_minor": 5
}
